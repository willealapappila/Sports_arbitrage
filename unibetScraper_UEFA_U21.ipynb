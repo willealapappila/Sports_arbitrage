{
 "cells": [
  {
   "attachments": {},
   "cell_type": "markdown",
   "metadata": {},
   "source": [
    "## Webscraping Unibet football odds for UEFA2023 U21\n",
    "Import packages"
   ]
  },
  {
   "cell_type": "code",
   "execution_count": 52,
   "metadata": {},
   "outputs": [],
   "source": [
    "import datetime as dt\n",
    "import pandas as pd\n",
    "import time\n",
    "\n",
    "import re\n",
    "import ast\n",
    "import time\n",
    "import requests\n",
    "from bs4 import BeautifulSoup\n",
    "\n",
    "from selenium import webdriver\n",
    "from selenium.webdriver.chrome.options import Options\n",
    "from selenium.webdriver.chrome.service import Service\n",
    "from selenium.webdriver.common.by import By"
   ]
  },
  {
   "attachments": {},
   "cell_type": "markdown",
   "metadata": {},
   "source": [
    "Choose the url to be scraped"
   ]
  },
  {
   "cell_type": "code",
   "execution_count": 53,
   "metadata": {},
   "outputs": [],
   "source": [
    "unibet = 'https://www.unibet.com/betting/sports/filter/football/uefa_championship_u21/all/matches'\n",
    "\n",
    "# path = '/Users/Wille/Desktop/Wille/Koodi/Chromedriver'"
   ]
  },
  {
   "attachments": {},
   "cell_type": "markdown",
   "metadata": {},
   "source": [
    "Open the website"
   ]
  },
  {
   "cell_type": "code",
   "execution_count": 54,
   "metadata": {},
   "outputs": [],
   "source": [
    "driver = webdriver.Chrome()\n",
    "\n",
    "driver.get(unibet)"
   ]
  },
  {
   "attachments": {},
   "cell_type": "markdown",
   "metadata": {},
   "source": [
    "Accept cookies to get rid of the popup and scroll down the website to get all the data"
   ]
  },
  {
   "cell_type": "code",
   "execution_count": 55,
   "metadata": {},
   "outputs": [],
   "source": [
    "accept = driver.find_element(By.XPATH, '//*[@id=\"CybotCookiebotDialogBodyLevelButtonLevelOptinAllowAll\"]')\n",
    "\n",
    "time.sleep(3)\n",
    "\n",
    "accept.click()\n",
    "\n",
    "time.sleep(1)\n",
    "\n",
    "scroll_pixels = 500\n",
    "scroll_iterations = 5\n",
    "\n",
    "for i in range(scroll_iterations):\n",
    "    driver.execute_script(f\"window.scrollBy(0, {scroll_pixels});\")\n",
    "    driver.implicitly_wait(2)\n"
   ]
  },
  {
   "attachments": {},
   "cell_type": "markdown",
   "metadata": {},
   "source": [
    "Initialize storage"
   ]
  },
  {
   "cell_type": "code",
   "execution_count": 56,
   "metadata": {},
   "outputs": [],
   "source": [
    "teams =[]\n",
    "x12 = []\n",
    "odds =[]\n",
    "teamsOdds =[]\n",
    "teamsOddsStr = []"
   ]
  },
  {
   "attachments": {},
   "cell_type": "markdown",
   "metadata": {},
   "source": [
    "Choose the box that we are interested in"
   ]
  },
  {
   "cell_type": "code",
   "execution_count": 57,
   "metadata": {},
   "outputs": [],
   "source": [
    "box = driver.find_element(By.XPATH, '//*[@id=\"rightPanel\"]/div[3]/div/div[2]/div[1]/div[1]/div/div/div/div[2]/div[1]/div')\n",
    "\n",
    "# print(box.text)"
   ]
  },
  {
   "attachments": {},
   "cell_type": "markdown",
   "metadata": {},
   "source": [
    "Find teams in this box"
   ]
  },
  {
   "cell_type": "code",
   "execution_count": 58,
   "metadata": {},
   "outputs": [
    {
     "name": "stdout",
     "output_type": "stream",
     "text": [
      "[{'Teams': ['Portugal U21', 'Netherlands U21'], 'Odds 1x2': ['2.75', '3.10', '2.60']}, {'Teams': ['Romania U21', 'Ukraine U21'], 'Odds 1x2': ['3.90', '3.70', '1.85']}, {'Teams': ['Georgia U21', 'Belgium U21'], 'Odds 1x2': ['5.20', '4.20', '1.55']}, {'Teams': ['Spain U21', 'Croatia U21'], 'Odds 1x2': ['1.48', '4.30', '6.40']}, {'Teams': ['Switzerland U21', 'Italy U21'], 'Odds 1x2': ['3.75', '3.30', '1.95']}, {'Teams': ['Czech Republic U21', 'Germany U21'], 'Odds 1x2': ['5.50', '3.85', '1.60']}, {'Teams': ['England U21', 'Israel U21'], 'Odds 1x2': ['1.33', '5.00', '8.00']}, {'Teams': ['Norway U21', 'France U21'], 'Odds 1x2': ['7.50', '4.25', '1.40']}]\n",
      "                              Teams          Odds 1x2\n",
      "0    Portugal U21 - Netherlands U21  |2.75|3.10|2.60|\n",
      "1         Romania U21 - Ukraine U21  |3.90|3.70|1.85|\n",
      "2         Georgia U21 - Belgium U21  |5.20|4.20|1.55|\n",
      "3           Spain U21 - Croatia U21  |1.48|4.30|6.40|\n",
      "4       Switzerland U21 - Italy U21  |3.75|3.30|1.95|\n",
      "5  Czech Republic U21 - Germany U21  |5.50|3.85|1.60|\n",
      "6          England U21 - Israel U21  |1.33|5.00|8.00|\n",
      "7           Norway U21 - France U21  |7.50|4.25|1.40|\n"
     ]
    }
   ],
   "source": [
    "events = box.find_elements(By.CSS_SELECTOR, '[data-test-name=\"matchEvent\"]')    # List of matches\n",
    "\n",
    "\n",
    "for match in events:\n",
    "    teams = []\n",
    "    oddslist = []\n",
    "    for team in match.find_elements(By.CSS_SELECTOR, '[data-test-name=\"eventParticipant\"]'):    # Iterate through teams in a match\n",
    "        name = team.find_element(By.CSS_SELECTOR, '[data-test-name=\"teamName\"]')    # Find the name of the team\n",
    "        teams.append(team.text)     # Make a 2-element list of the opposing teams\n",
    "    odds = match.find_elements(By.CSS_SELECTOR, '[data-test-name=\"odds\"]')  # Find the odds for the two playing teams\n",
    "    for odd in odds:\n",
    "        oddslist.append(odd.text)   # Make a list of the odds like [Odds_team1, Odds_tie, Odds_team2]\n",
    "    odds_dict_str = {'Teams': f\"{teams[0]} - {teams[1]}\", 'Odds 1x2': f\"|{oddslist[0]}|{oddslist[1]}|{oddslist[2]}|\"}\n",
    "    odds_dict = {'Teams': teams, 'Odds 1x2': oddslist}\n",
    "    teamsOdds.append(odds_dict)     # Create a dictionary containing the teams and odds\n",
    "    teamsOddsStr.append(odds_dict_str)  # A string-format dictionary for the pandas table\n",
    "\n",
    "\n",
    "print(teamsOdds)\n",
    "\n",
    "pandadict = {'Teams': [], 'Odds 1x2': []}\n",
    "\n",
    "for match in teamsOddsStr:\n",
    "    pandadict['Teams'].append(match['Teams'])\n",
    "    pandadict['Odds 1x2'].append(match['Odds 1x2'])\n",
    "\n",
    "pandatable = pd.DataFrame.from_dict(pandadict)\n",
    "\n",
    "print(pandatable)\n",
    "\n",
    "driver.quit()"
   ]
  },
  {
   "cell_type": "code",
   "execution_count": null,
   "metadata": {},
   "outputs": [],
   "source": []
  }
 ],
 "metadata": {
  "kernelspec": {
   "display_name": "Python 3",
   "language": "python",
   "name": "python3"
  },
  "language_info": {
   "codemirror_mode": {
    "name": "ipython",
    "version": 3
   },
   "file_extension": ".py",
   "mimetype": "text/x-python",
   "name": "python",
   "nbconvert_exporter": "python",
   "pygments_lexer": "ipython3",
   "version": "3.9.2"
  },
  "orig_nbformat": 4
 },
 "nbformat": 4,
 "nbformat_minor": 2
}
